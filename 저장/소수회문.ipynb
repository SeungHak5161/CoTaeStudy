{
 "cells": [
  {
   "cell_type": "markdown",
   "metadata": {},
   "source": [
    "주어진 정수와 그 정수를 reverse한 정수가 서로 같으면 그 정수는 회문(Palindrome)이라고 합니다.. 예를 들어 79197 및 324423은 Palindrome입니다.\n",
    "\n",
    "정수 N(1 ≤ N ≤ 1000000)이 하나 주어지고,  M이 소수(prime number)이고 Palindrome이되는 가장 작은 정수M (M ≥ N)을 찾습니다.\n",
    "\n",
    "M은 N보다 크거나 같습니다.\n",
    "\n",
    "M이 소수(prime number)이므로 M은 1과 M으로만 나누어 떨어져야 합니다.\n",
    "\n",
    "예를 들어, N이 31이면 답 M은 101입니다."
   ]
  },
  {
   "cell_type": "code",
   "execution_count": null,
   "metadata": {},
   "outputs": [],
   "source": [
    "# import pandas as pd\n",
    "# import numpy as np\n",
    "\n",
    "N=int(input(\"\"))\n",
    "M=N\n",
    "PN=[]\n",
    "while True:\n",
    "    for i in PN :\n",
    "        if M%i==0 :\n",
    "            break\n",
    "        if i==len(PN) :\n",
    "            PN.append(i)\n",
    "            if str(M)[::-1]==M :\n",
    "                print(M)\n",
    "                break\n",
    "    M=M+1\n",
    "                "
   ]
  },
  {
   "cell_type": "code",
   "execution_count": null,
   "metadata": {},
   "outputs": [],
   "source": []
  }
 ],
 "metadata": {
  "kernelspec": {
   "display_name": "Python 3",
   "language": "python",
   "name": "python3"
  },
  "language_info": {
   "codemirror_mode": {
    "name": "ipython",
    "version": 3
   },
   "file_extension": ".py",
   "mimetype": "text/x-python",
   "name": "python",
   "nbconvert_exporter": "python",
   "pygments_lexer": "ipython3",
   "version": "3.7.3"
  }
 },
 "nbformat": 4,
 "nbformat_minor": 2
}
